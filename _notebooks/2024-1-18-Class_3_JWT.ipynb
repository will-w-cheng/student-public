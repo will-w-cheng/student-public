{
 "cells": [
  {
   "cell_type": "markdown",
   "metadata": {},
   "source": [
    "---\n",
    "comments: true\n",
    "layout: notebook\n",
    "title: Class 3- JWT Implimentation\n",
    "description: Teamteach by Lindsay, Anika, Grace, Samhita\n",
    "type: collab\n",
    "courses: { csp: {week: 19} }\n",
    "---"
   ]
  },
  {
   "cell_type": "markdown",
   "metadata": {},
   "source": [
    "# JWT Implimentation\n",
    "\n",
    "![JWT](https://files.catbox.moe/t69vm3.png)\n",
    "\n",
    "## What is a JWT (JSON Web Token)?\n",
    "\n",
    "JSON Web Tokens (JWT) serve as a secure means of transmitting information in JSON format, providing a way to establish trust between different parties in a web application. \n",
    "- Typically used to transmit information about an authenticated user and additional metadata (usernames, user ID, email, roles, etc.).\n",
    "\n",
    "### Parts of a JWT:\n",
    "\n",
    "![Parts](https://files.catbox.moe/19taua.png)\n",
    "\n",
    "Each section is divided by a dot\n",
    "- Header (red): Consists of two parts, how the JWT is encoded, such as the type of token (JWT) and the signing algorithm being used.\n"
   ]
  },
  {
   "cell_type": "code",
   "execution_count": null,
   "metadata": {},
   "outputs": [],
   "source": [
    "{\n",
    "  # For example:\n",
    "  \"alg\": \"HS256\",\n",
    "  \"typ\": \"JWT\"\n",
    "}"
   ]
  },
  {
   "cell_type": "markdown",
   "metadata": {},
   "source": [
    "- Payload (purple): Contains the claims. Claims are statements about an entity (typically, the user) and additional data. There are three types of claims: registered, public, and private claims."
   ]
  },
  {
   "cell_type": "code",
   "execution_count": null,
   "metadata": {},
   "outputs": [],
   "source": [
    "{\n",
    "  # For Example:\n",
    "  \"sub\": \"1234567890\",\n",
    "  \"name\": \"John Doe\",\n",
    "  \"admin\": true\n",
    "}"
   ]
  },
  {
   "cell_type": "markdown",
   "metadata": {},
   "source": [
    "- Signature (teal): Created by combining the encoded header, encoded payload, and a secret (or key) using the specified algorithm. This signature is used to verify that the sender of the JWT is who it says it is and to ensure that the message wasn't changed along the way."
   ]
  },
  {
   "cell_type": "code",
   "execution_count": null,
   "metadata": {},
   "outputs": [],
   "source": [
    "# Using the HMAC SHA256 algorithm the signature will be created as such:\n",
    "HMACSHA256(\n",
    "  base64UrlEncode(header) + \".\" +\n",
    "  base64UrlEncode(payload),\n",
    "  secret)"
   ]
  },
  {
   "cell_type": "markdown",
   "metadata": {},
   "source": [
    "### HMAC and RSA or ECDSA Keys:\n",
    "\n",
    "Used for signing JWT tokens\n",
    "- HMAC Algorithm (Secret Key): \n",
    "  - HMAC (Hash-based Message Authentication Code)\n",
    "  - A secret key is used to both create and verify the signature.\n",
    "  - The issuer (who creates the JWT) uses a secret key and a hashing algorithm to create a signature by combining the encoded header and payload.\n",
    "  - The recipient (who validates the JWT) uses the same secret key to independently calculate the signature and verify that it matches the one provided in the JWT.\n",
    "  - Symmetric key solution: same key used for signing and verification\n",
    "- RSA or ECDSA (Public/Private Key Pair):\n",
    "  - RSA (Rivest–Shamir–Adleman) or ECDSA (Elliptic Curve Digital Signature Algorithm)\n",
    "  - A pair of keys is used: a private key for signing and a corresponding public key for verification.\n",
    "  - The issuer signs the JWT using their private key, and the signature is included in the JWT.\n",
    "  - The recipient, who wants to verify the JWT, uses the public key associated with the issuer to check the signature's validity.\n",
    "  - Asymmetric key solution: private key is kept secret, and only the public key is shared."
   ]
  },
  {
   "cell_type": "markdown",
   "metadata": {},
   "source": [
    "## Rest APIs and JSON Web Tokens\n",
    "\n",
    "### Rest APIs:\n",
    "\n",
    "![JWT](https://files.catbox.moe/mc4jvz.png)\n",
    "\n",
    "- REST (Representational State Transfer) API (Application Programming Interface)\n",
    "- Architectural style for designing networked applications\n",
    "- Set of rules and conventions for building and interacting with web services that adhere to the principles of REST.\n",
    "\n",
    "Principals of REST-\n",
    "- Statelessness: Each request from a client to a server must contain all the information needed to understand and fulfill the request. The server should not store any information about the client's state between requests. This makes the system scalable and easy to maintain.\n",
    "- Client-Server Architecture: The client and server are separate entities that communicate over a network. The client is responsible for the user interface and user experience, while the server is responsible for processing requests, managing resources, and handling business logic.\n",
    "- Uniform Interface: RESTful APIs have a uniform and consistent interface, which simplifies the architecture and promotes a clear separation of concerns. The uniform interface is defined by several constraints, including resource identification through URIs (Uniform Resource Identifiers), resource manipulation through representations, and self-descriptive messages.\n",
    "- Representation: Resources can have multiple representations, such as JSON or XML, which can be selected based on the client's needs or capabilities. The representation contains the current state of the resource.\n",
    "\n",
    "### REST APIs and JWT:\n",
    "\n",
    "A Java Web Token (JWT) is often used in the context of RESTful APIs to secure and authenticate communication between clients and servers.\n",
    "- Authentication and Authorization: When a client makes a request to a RESTful API, the server may need to verify the identity of the client and determine whether the client has the necessary permissions to perform the requested operation. JWTs can be used to securely transmit authentication information (such as user identity and roles) between the client and server.\n",
    "- Stateless Communication: RESTful APIs typically follow the stateless constraint, meaning that each request from the client to the server should contain all the information needed to understand and fulfill the request. JWTs provide a way to include authentication and authorization information directly within the token, eliminating the need for the server to store session state.\n",
    "- Token-Based Authentication: Instead of relying on sessions and cookies, which are commonly used in traditional web applications, JWTs allow for token-based authentication. When a user logs in, the server issues a JWT containing relevant user information and a signature to ensure its integrity. The client then includes this token in the headers of subsequent requests, allowing the server to authenticate and authorize the user.\n",
    "- Secure Transmission: JWTs can be signed and, optionally, encrypted, providing a secure way to transmit information between the client and server. The server can verify the integrity of the token by checking its signature, ensuring that the information it contains has not been tampered with."
   ]
  },
  {
   "cell_type": "markdown",
   "metadata": {},
   "source": [
    "## Implimenting JWT in Flask Using PyJWT"
   ]
  },
  {
   "cell_type": "markdown",
   "metadata": {},
   "source": [
    "#### 1) Add PyJWT to requirements.txt\n",
    "\n",
    "PyJWT will be used to encode and decode JWT tokens"
   ]
  },
  {
   "cell_type": "raw",
   "metadata": {},
   "source": [
    "Flask_SqlAlchemy\n",
    "Flask_Migrate\n",
    "Flask_Restful\n",
    "Flask_Cors\n",
    "PyJWT"
   ]
  },
  {
   "cell_type": "markdown",
   "metadata": {},
   "source": [
    "#### 2) Add a Secret Key as App Config\n",
    "\n",
    "Modify the app.config ['SECRET_KEY'] to try and get secret key for encoding and decoding the JWT from the variable SECRET_KEY. It defaults to \"SECRET_KEY\" for the key."
   ]
  },
  {
   "cell_type": "code",
   "execution_count": null,
   "metadata": {},
   "outputs": [],
   "source": [
    "from flask import Flask\n",
    "from flask_sqlalchemy import SQLAlchemy\n",
    "from flask_migrate import Migrate\n",
    "import os\n",
    "\n",
    "\"\"\"\n",
    "These objects can be used throughout project.\n",
    "\"\"\"\n",
    "@@ -14,7 +15,8 @@\n",
    "dbURI = 'sqlite:///volumes/sqlite.db'\n",
    "app.config['SQLALCHEMY_TRACK_MODIFICATIONS'] = False\n",
    "app.config['SQLALCHEMY_DATABASE_URI'] = dbURI\n",
    "SECRET_KEY = os.environ.get('SECRET_KEY') or 'SECRET_KEY'\n",
    "app.config['SECRET_KEY'] = SECRET_KEY\n",
    "db = SQLAlchemy()\n",
    "Migrate(app, db)"
   ]
  },
  {
   "cell_type": "markdown",
   "metadata": {},
   "source": [
    "#### 3) Migration Script Hashes Passwords and New Valid Hash Method\n",
    "\n",
    "We need to prevent storing passwords in plaintext (for security reasons) so we need to hash passwords when initializing users in the database (in migration sript). All the user set_password methods are set to the same hash method."
   ]
  },
  {
   "cell_type": "markdown",
   "metadata": {},
   "source": [
    "##### Migration Script Hashes Passwords"
   ]
  },
  {
   "cell_type": "code",
   "execution_count": null,
   "metadata": {},
   "outputs": [],
   "source": [
    "from alembic import op\n",
    "import sqlalchemy as sa\n",
    "from datetime import date\n",
    "from werkzeug.security import generate_password_hash\n",
    "\n",
    "\n",
    "# revision identifiers, used by Alembic.\n",
    "revision = '5ac11951f352'\n",
    "down_revision = None\n",
    "branch_labels = None\n",
    "depends_on = None\n",
    "def upgrade():\n",
    "    # ### commands auto generated by Alembic - please adjust! ###\n",
    "    players_table = op.create_table('players',\n",
    "    sa.Column('id', sa.Integer(), nullable=False),\n",
    "    sa.Column('_name', sa.String(length=255), nullable=False),\n",
    "    sa.Column('_uid', sa.String(length=255), nullable=False),\n",
    "    sa.Column('_password', sa.String(length=255), nullable=False),\n",
    "    sa.Column('_tokens', sa.Integer(), nullable=True),\n",
    "    sa.PrimaryKeyConstraint('id'),\n",
    "    sa.UniqueConstraint('_uid')\n",
    "    )\n",
    "    users_table = op.create_table('users',\n",
    "    sa.Column('id', sa.Integer(), nullable=False),\n",
    "    sa.Column('_name', sa.String(length=255), nullable=False),\n",
    "    sa.Column('_uid', sa.String(length=255), nullable=False),\n",
    "    sa.Column('_password', sa.String(length=255), nullable=False),\n",
    "    sa.Column('_dob', sa.Date(), nullable=True),\n",
    "    sa.PrimaryKeyConstraint('id'),\n",
    "    sa.UniqueConstraint('_uid')\n",
    "    )\n",
    "    posts_table = op.create_table('posts',\n",
    "    sa.Column('id', sa.Integer(), nullable=False),\n",
    "    sa.Column('note', sa.Text(), nullable=False),\n",
    "    sa.Column('image', sa.String(), nullable=True),\n",
    "    sa.Column('userID', sa.Integer(), nullable=True),\n",
    "    sa.ForeignKeyConstraint(['userID'], ['users.id'], ),\n",
    "    sa.PrimaryKeyConstraint('id')\n",
    "    )\n",
    "    op.bulk_insert(players_table,\n",
    "    [\n",
    "        {'id': 1,\n",
    "        '_name': \"Azeem Khan\",\n",
    "        '_uid': \"azeemK\",\n",
    "        '_password': generate_password_hash(\"123qwerty\", \"pbkdf2:sha256\", salt_length=10),\n",
    "        \"_tokens\": 45},\n",
    "        {'id': 2,\n",
    "        '_name': \"Ahad Biabani\",\n",
    "        '_uid': \"ahadB\",\n",
    "        '_password': generate_password_hash(\"123qwerty\", \"pbkdf2:sha256\", salt_length=10),\n",
    "        \"_tokens\": 41},\n",
    "        {'id': 3,\n",
    "        '_name': \"Akshat Parikh\",\n",
    "        '_uid': \"akshatP\",\n",
    "        '_password': generate_password_hash(\"123qwerty\", \"pbkdf2:sha256\", salt_length=10),\n",
    "        \"_tokens\": 40},\n",
    "        {'id': 4,\n",
    "        '_name': \"Josh Williams\",\n",
    "        '_uid': \"joshW\",\n",
    "        '_password': generate_password_hash(\"123qwerty\", \"pbkdf2:sha256\", salt_length=10),\n",
    "        \"_tokens\": 38},\n",
    "    ]\n",
    "    )\n",
    "    op.bulk_insert(users_table,\n",
    "    [\n",
    "        {'id': 1,\n",
    "        '_name': \"Thomas Edison\",\n",
    "        '_uid': \"toby\",\n",
    "        '_password': generate_password_hash(\"123toby\", \"pbkdf2:sha256\", salt_length=10),\n",
    "        \"_dob\": date(1847, 2, 11)},\n",
    "        {'id': 2,\n",
    "        '_name': \"Nicholas Tesla\",\n",
    "        '_uid': \"niko\",\n",
    "        '_password': generate_password_hash(\"123niko\", \"pbkdf2:sha256\", salt_length=10),\n",
    "        \"_dob\": date(1856, 7, 10)},\n",
    "        {'id': 3,\n",
    "        '_name': \"Alexander Graham Bell\",\n",
    "        '_uid': \"lex\",\n",
    "        '_password': generate_password_hash(\"123qwerty\", \"pbkdf2:sha256\", salt_length=10),\n",
    "        \"_dob\": date.today()},\n",
    "        {'id': 4,\n",
    "        '_name': \"Grace Hopper\",\n",
    "        '_uid': \"hop\",\n",
    "        '_password': generate_password_hash(\"123hop\", \"pbkdf2:sha256\", salt_length=10),\n",
    "        \"_dob\": date(1906, 12, 9)},\n",
    "    ]\n",
    "    )\n",
    "    op.bulk_insert(posts_table,\n",
    "    [\n",
    "        {'id': 1,\n",
    "        'note': \"#### Thomas Edison Test Note ####\",\n",
    "        'image': \"ncs_logo.png\",\n",
    "        'userID': 1\n",
    "        },\n",
    "        {'id': 2,\n",
    "        'note': \"#### Nicholas Tesla Test Note ####\",\n",
    "        'image': \"ncs_logo.png\",\n",
    "        'userID': 2\n",
    "        },\n",
    "        {'id': 3,\n",
    "        'note': \"#### Alexander Graham Bell Test Note ####\",\n",
    "        'image': \"ncs_logo.png\",\n",
    "        'userID': 3\n",
    "        },\n",
    "        {'id': 4,\n",
    "        'note': \"#### Grace Hopper Test Note ####\",\n",
    "        'image': \"ncs_logo.png\",\n",
    "        'userID': 4},\n",
    "    ]\n",
    "    )\n",
    "    # ### end Alembic commands ###\n",
    "def downgrade():\n",
    "    # ### commands auto generated by Alembic - please adjust! ###\n",
    "    op.drop_table('posts')\n",
    "    op.drop_table('users')\n",
    "    op.drop_table('players')\n",
    "    # ### end Alembic commands ###"
   ]
  },
  {
   "cell_type": "markdown",
   "metadata": {},
   "source": [
    "##### New Valid Hash Method"
   ]
  },
  {
   "cell_type": "code",
   "execution_count": null,
   "metadata": {},
   "outputs": [],
   "source": [
    "    # update password, this is conventional setter\n",
    "    def set_password(self, password):\n",
    "        \"\"\"Create a hashed password.\"\"\"\n",
    "        self._password = generate_password_hash(password, \"pbkdf2:sha256\", salt_length=10)\n",
    "\n",
    "    # check password parameter versus stored/encrypted password\n",
    "    def is_password(self, password):"
   ]
  },
  {
   "cell_type": "markdown",
   "metadata": {},
   "source": [
    "#### 4) Checking JWT Token and Authentication\n",
    "\n",
    "This authentication middleware functions as a checkpoint for all incoming requests to the web server before reaching the API. Its primary task is to check for the presence of a JWT cookie in the incoming request. In cases where the cookie is absent, the middleware responds with a 401 Unauthorized Error, indicating that the required token is missing. If a cookie is found, the middleware proceeds to decode the token, extracting the user ID (uid). Following this, it validates the existence of a user associated with that ID."
   ]
  },
  {
   "cell_type": "code",
   "execution_count": null,
   "metadata": {},
   "outputs": [],
   "source": [
    "from functools import wraps\n",
    "import jwt\n",
    "from flask import request, abort\n",
    "from flask import current_app\n",
    "from model.users import User\n",
    "\n",
    "def token_required(f):\n",
    "    @wraps(f)\n",
    "    def decorated(*args, **kwargs):\n",
    "        token = request.cookies.get(\"jwt\")\n",
    "        print(token)\n",
    "        if not token:\n",
    "            return {\n",
    "                \"message\": \"Authentication Token is missing!\",\n",
    "                \"data\": None,\n",
    "                \"error\": \"Unauthorized\"\n",
    "            }, 401\n",
    "        try:\n",
    "            data=jwt.decode(token, current_app.config[\"SECRET_KEY\"], algorithms=[\"HS256\"])\n",
    "            print(data[\"_uid\"])\n",
    "            current_user=User.query.filter_by(_uid=data[\"_uid\"]).first()\n",
    "            if current_user is None:\n",
    "                return {\n",
    "                \"message\": \"Invalid Authentication token!\",\n",
    "                \"data\": None,\n",
    "                \"error\": \"Unauthorized\"\n",
    "            }, 401\n",
    "        except Exception as e:\n",
    "            return {\n",
    "                \"message\": \"Something went wrong\",\n",
    "                \"data\": None,\n",
    "                \"error\": str(e)\n",
    "            }, 500\n",
    "\n",
    "        return f(current_user, *args, **kwargs)\n",
    "\n",
    "    return decorated"
   ]
  },
  {
   "cell_type": "markdown",
   "metadata": {},
   "source": [
    "#### 5) Authenticate Returns from Generaated JWT Tokens\n",
    "\n",
    "The endpoint /api/users/authenticate now provides a JWT token based on the request's JSON data, which includes the uid and password. Several checks are performed, ensuring the presence of the request body, existence of the uid, presence of a user with the specified uid, and correctness of the provided password. If all checks pass, the uid is encoded into a JWT token, which is then returned as a cookie.\n",
    "\n",
    "Additionally, the @token_required decorator is applied to the get and post methods so that only authenticated users can reach and access resources."
   ]
  },
  {
   "cell_type": "code",
   "execution_count": null,
   "metadata": {},
   "outputs": [],
   "source": [
    "import json, jwt\n",
    "from flask import Blueprint, request, jsonify, current_app, Response\n",
    "from flask_restful import Api, Resource # used for REST API building\n",
    "from datetime import datetime\n",
    "from auth_middleware import token_required\n",
    "\n",
    "from model.users import User\n",
    "\n",
    "user_api = Blueprint('user_api', __name__,\n",
    "                   url_prefix='/api/users')\n",
    "# API docs https://flask-restful.readthedocs.io/en/latest/api.html\n",
    "api = Api(user_api)\n",
    "\n",
    "class UserAPI:        \n",
    "    class _CRUD(Resource):  # User API operation for Create, Read.  THe Update, Delete methods need to be implemeented\n",
    "        @token_required\n",
    "        def post(self, current_user): # Create method\n",
    "            ''' Read data for json body '''\n",
    "            body = request.get_json()\n",
    "\n",
    "            ''' Avoid garbage in, error checking '''\n",
    "            # validate name\n",
    "            name = body.get('name')\n",
    "            if name is None or len(name) < 2:\n",
    "                return {'message': f'Name is missing, or is less than 2 characters'}, 400\n",
    "            # validate uid\n",
    "            uid = body.get('uid')\n",
    "            if uid is None or len(uid) < 2:\n",
    "                return {'message': f'User ID is missing, or is less than 2 characters'}, 400\n",
    "            # look for password and dob\n",
    "            password = body.get('password')\n",
    "            dob = body.get('dob')\n",
    "            ''' #1: Key code block, setup USER OBJECT '''\n",
    "            uo = User(name=name, \n",
    "                      uid=uid)\n",
    "            \n",
    "            ''' Additional garbage error checking '''\n",
    "            # set password if provided\n",
    "            if password is not None:\n",
    "                uo.set_password(password)\n",
    "            # convert to date type\n",
    "            if dob is not None:\n",
    "                try:\n",
    "                    uo.dob = datetime.strptime(dob, '%Y-%m-%d').date()\n",
    "                except:\n",
    "                    return {'message': f'Date of birth format error {dob}, must be mm-dd-yyyy'}, 400\n",
    "            \n",
    "            ''' #2: Key Code block to add user to database '''\n",
    "            # create user in database\n",
    "            user = uo.create()\n",
    "            # success returns json of user\n",
    "            if user:\n",
    "                return jsonify(user.read())\n",
    "            # failure returns error\n",
    "            return {'message': f'Processed {name}, either a format error or User ID {uid} is duplicate'}, 400\n",
    "        \n",
    "        @token_required\n",
    "        def get(self, current_user): # Read Method\n",
    "            users = User.query.all()    # read/extract all users from database\n",
    "            json_ready = [user.read() for user in users]  # prepare output in json\n",
    "            return jsonify(json_ready)  # jsonify creates Flask response object, more specific to APIs than json.dumps\n",
    "\n",
    "    class _Security(Resource):\n",
    "        def post(self):\n",
    "            try:\n",
    "                body = request.get_json()\n",
    "                if not body:\n",
    "                    return {\n",
    "                        \"message\": \"Please provide user details\",\n",
    "                        \"data\": None,\n",
    "                        \"error\": \"Bad request\"\n",
    "                    }, 400\n",
    "                ''' Get Data '''\n",
    "                uid = body.get('uid')\n",
    "                if uid is None:\n",
    "                    return {'message': f'User ID is missing'}, 400\n",
    "                password = body.get('password')\n",
    "\n",
    "                ''' Find user '''\n",
    "                user = User.query.filter_by(_uid=uid).first()\n",
    "                print(user._uid,user._password)\n",
    "                if user is None or not user.is_password(password):\n",
    "                    return {'message': f\"Invalid user id or password\"}, 400\n",
    "                if user:\n",
    "                    try:\n",
    "                        token = jwt.encode(\n",
    "                            {\"_uid\": user._uid},\n",
    "                            current_app.config[\"SECRET_KEY\"],\n",
    "                            algorithm=\"HS256\"\n",
    "                        )\n",
    "                        resp = Response(\"Authentication for %s successful\" % (user._uid))\n",
    "                        resp.set_cookie(\"jwt\", token,\n",
    "                                max_age=3600,\n",
    "                                secure=True,\n",
    "                                httponly=True,\n",
    "                                path='/'\n",
    "                                # domain=\"frontend.com\"\n",
    "                                )\n",
    "                        return resp\n",
    "                    except Exception as e:\n",
    "                        return {\n",
    "                            \"error\": \"Something went wrong\",\n",
    "                            \"message\": str(e)\n",
    "                        }, 500\n",
    "                return {\n",
    "                    \"message\": \"Error fetching auth token!, invalid email or password\",\n",
    "                    \"data\": None,\n",
    "                    \"error\": \"Unauthorized\"\n",
    "                },\n",
    "            except Exception as e:\n",
    "                return {\n",
    "                        \"message\": \"Something went wrong!\",\n",
    "                        \"error\": str(e),\n",
    "                        \"data\": None\n",
    "                }, 500\n",
    "\n",
    "\n",
    "\n",
    "    # building RESTapi endpoint\n",
    "    api.add_resource(_CRUD, '/')\n",
    "    api.add_resource(_Security, '/authenticate')\n"
   ]
  },
  {
   "cell_type": "markdown",
   "metadata": {},
   "source": [
    "## Implimenting JWT in Flask Using Flask-JWT-Extended"
   ]
  },
  {
   "cell_type": "markdown",
   "metadata": {},
   "source": [
    "#### 1) Install Flask-JWT-Extended"
   ]
  },
  {
   "cell_type": "code",
   "execution_count": null,
   "metadata": {
    "vscode": {
     "languageId": "plaintext"
    }
   },
   "outputs": [],
   "source": [
    "pip install Flask-JWT-Extended"
   ]
  },
  {
   "cell_type": "markdown",
   "metadata": {},
   "source": [
    "#### 2) Include JWT Library in Flask App Setup"
   ]
  },
  {
   "cell_type": "code",
   "execution_count": null,
   "metadata": {},
   "outputs": [],
   "source": [
    "from flask_jwt_extended import JWTManager\n",
    "\n",
    "# You don't have to add this again if you already have it.\n",
    "app = Flask(__name__)\n",
    "\n",
    "# Setup the Flask-JWT-Extended extension\n",
    "app.config[\"JWT_SECRET_KEY\"] = \"SECRET_KEY\"  # Remember to change \"secret\" to a more complex key\n",
    "jwt = JWTManager(app)"
   ]
  },
  {
   "cell_type": "markdown",
   "metadata": {},
   "source": [
    "#### 3) Create an Endpoint for Generating Tokens\n",
    "\n",
    "Using POST because it is creating tokens (POST is for creation)"
   ]
  },
  {
   "cell_type": "code",
   "execution_count": null,
   "metadata": {},
   "outputs": [],
   "source": [
    "POST /token\n",
    "Content-type: application/json\n",
    "Body:\n",
    "{\n",
    "     \"username\": \"alesanchezr\",\n",
    "     \"password\": \"12341234\"\n",
    "}"
   ]
  },
  {
   "cell_type": "code",
   "execution_count": null,
   "metadata": {},
   "outputs": [],
   "source": [
    "from flask_jwt_extended import create_access_token\n",
    "\n",
    "# Create a route to authenticate your users and return JWT Token\n",
    "# The create_access_token() function is used to actually generate the JWT\n",
    "@app.route(\"/token\", methods=[\"POST\"])\n",
    "def create_token():\n",
    "    username = request.json.get(\"username\", None)\n",
    "    password = request.json.get(\"password\", None)\n",
    "\n",
    "    # Query your database for username and password\n",
    "    user = User.query.filter_by(username=username, password=password).first()\n",
    "\n",
    "    if user is None:\n",
    "        # The user was not found on the database\n",
    "        return jsonify({\"msg\": \"Bad username or password\"}), 401\n",
    "    \n",
    "    # Create a new token with the user id inside\n",
    "    access_token = create_access_token(identity=user.id)\n",
    "    return jsonify({ \"token\": access_token, \"user_id\": user.id })"
   ]
  },
  {
   "cell_type": "markdown",
   "metadata": {},
   "source": [
    "#### 4) Use @jwt_required() Decorator on Private Routes\n",
    "\n",
    "Endpoints that require authorization (private endpoints) should use the @jwt_required() decorator. You can retrieve valid, authenticated user information using the get_jwt_identity function. "
   ]
  },
  {
   "cell_type": "code",
   "execution_count": null,
   "metadata": {},
   "outputs": [],
   "source": [
    "from flask_jwt_extended import jwt_required, get_jwt_identity\n",
    "\n",
    "# Protect a route with jwt_required, which will kick out requests without a valid JWT\n",
    "@app.route(\"/protected\", methods=[\"GET\"])\n",
    "@jwt_required()\n",
    "def protected():\n",
    "    # Access the identity of the current user with get_jwt_identity\n",
    "    current_user_id = get_jwt_identity()\n",
    "    user = User.query.get(current_user_id)\n",
    "    \n",
    "    return jsonify({\"id\": user.id, \"username\": user.username }), 200"
   ]
  },
  {
   "cell_type": "markdown",
   "metadata": {},
   "source": [
    "## Implimenting JWT in Front-End"
   ]
  },
  {
   "cell_type": "markdown",
   "metadata": {},
   "source": [
    "#### 1) Create a New Token\n",
    "\n",
    "Based on earlier endpoints, we have to POST /token with username + password information in request body."
   ]
  },
  {
   "cell_type": "code",
   "execution_count": null,
   "metadata": {
    "vscode": {
     "languageId": "javascript"
    }
   },
   "outputs": [],
   "source": [
    "const login = async (username, password) => {\n",
    "     const resp = await fetch(`https://your_api.com/token`, { \n",
    "          method: \"POST\",\n",
    "          headers: { \"Content-Type\": \"application/json\" },\n",
    "          body: JSON.stringify({ username, password }) \n",
    "     })\n",
    "\n",
    "     if(!resp.ok) throw Error(\"There was a problem in the login request\")\n",
    "\n",
    "     if(resp.status === 401){\n",
    "          throw(\"Invalid credentials\")\n",
    "     }\n",
    "     else if(resp.status === 400){\n",
    "          throw (\"Invalid email or password format\")\n",
    "     }\n",
    "     const data = await resp.json()\n",
    "     // Save your token in the localStorage\n",
    "     // Also you should set your user into the store using the setItem function\n",
    "     localStorage.setItem(\"jwt-token\", data.token);\n",
    "\n",
    "     return data\n",
    "}"
   ]
  },
  {
   "cell_type": "markdown",
   "metadata": {},
   "source": [
    "#### 2) Retrieving Information\n",
    "\n",
    "Now, lets say I've logged in to the front-end application and I want to retrieve sensitive data:"
   ]
  },
  {
   "cell_type": "code",
   "execution_count": null,
   "metadata": {
    "vscode": {
     "languageId": "javascript"
    }
   },
   "outputs": [],
   "source": [
    "// Assuming \"/protected\" is a private endpoint\n",
    "const getMyTasks = async () => {\n",
    "     // Retrieve token from localStorage\n",
    "     const token = localStorage.getItem('jwt-token');\n",
    "\n",
    "     const resp = await fetch(`https://your_api.com/protected`, {\n",
    "        method: 'GET',\n",
    "        headers: { \n",
    "          \"Content-Type\": \"application/json\",\n",
    "          'Authorization': 'Bearer ' + token // ⬅⬅⬅ authorization token\n",
    "        } \n",
    "     });\n",
    "\n",
    "     if(!resp.ok) {\n",
    "          throw Error(\"There was a problem in the login request\")\n",
    "     } else if(resp.status === 403) {\n",
    "          throw Error(\"Missing or invalid token\");\n",
    "     } else {\n",
    "         throw Error(\"Unknown error\");\n",
    "     }\n",
    "\n",
    "     const data = await resp.json();\n",
    "     console.log(\"This is the data you requested\", data);\n",
    "     return data\n",
    "}"
   ]
  },
  {
   "cell_type": "markdown",
   "metadata": {},
   "source": [
    "## CORS Configuration:\n",
    "\n",
    "Cross-Origin Resource Sharing (CORS) is a crucial aspect of web development, allowing or restricting requests from different origins. This configuration is essential to ensure that your Flask application can seamlessly handle requests from various sources, promoting security and compatibility.\n",
    "\n",
    "Change: Added CORS support for deployed and local runs.\n",
    "- Allows Flask to handle requests from different origins. The inclusion of supports_credentials=True ensures that credentials, such as cookies, can be sent and received."
   ]
  },
  {
   "cell_type": "code",
   "execution_count": null,
   "metadata": {
    "vscode": {
     "languageId": "javascript"
    }
   },
   "outputs": [],
   "source": [
    "cors = CORS(app, supports_credentials=True)"
   ]
  },
  {
   "cell_type": "markdown",
   "metadata": {},
   "source": [
    "### Dynamic Allowed Origins:\n",
    "\n",
    "The concept of \"Dynamic Allowed Origins\" refers to the ability to dynamically set the allowed origins for Cross-Origin Resource Sharing (CORS) based on the incoming request's 'Origin' header. In CORS, the 'Origin' header indicates the origin (domain) of the requesting client.\n",
    "\n",
    "Change: A before_request hook is implemented to dynamically set the allowed origin based on the incoming request's 'Origin' header.\n",
    "- Helps prevent unauthorized cross-origin requests by allowing only specified origins."
   ]
  },
  {
   "cell_type": "code",
   "execution_count": null,
   "metadata": {},
   "outputs": [],
   "source": [
    "@app.before_request\n",
    "def before_request():\n",
    "    allowed_origin = request.headers.get('Origin')\n",
    "    if allowed_origin in ['http://localhost:4100', 'http://127.0.0.1:4100', 'https://nighthawkcoders.github.io']:\n",
    "        cors._origins = allowed_origin"
   ]
  },
  {
   "cell_type": "markdown",
   "metadata": {},
   "source": [
    "### Same Site Attribute in set_cookie:\n",
    "\n",
    "The SameSite attribute in a cookie is a security feature that controls whether a cookie should be sent with cross-site requests. It is set within the Set-Cookie header when a server instructs a browser to store a cookie on the user's device. The SameSite attribute helps mitigate certain types of cross-site request forgery (CSRF) attacks.\n",
    "\n",
    "Change: The SameSite attribute is set to 'None' in the set_cookie method to allow cross-site requests.\n",
    "- Allows for cookies to be sent with cross-site requests, especially when working with front-end applications hosted on different domains."
   ]
  },
  {
   "cell_type": "code",
   "execution_count": null,
   "metadata": {},
   "outputs": [],
   "source": [
    "resp.set_cookie(\n",
    "    \"jwt\",\n",
    "    token,\n",
    "    max_age=3600,\n",
    "    secure=True,\n",
    "    httponly=True,\n",
    "    path='/',\n",
    "    samesite='None'\n",
    ")"
   ]
  },
  {
   "cell_type": "markdown",
   "metadata": {},
   "source": [
    "### Nginx Preflighted Requests Configuration:\n",
    "\n",
    "The Nginx preflighted requests configuration is designed to handle preflighted requests. Preflighted requests are HTTP OPTIONS requests sent by the browser before the actual request to check whether the server will accept the actual request.\n",
    "\n",
    "Change: Nginx configuration is added to handle preflighted requests, ensuring that only the specified frontend server is allowed.\n",
    "- Includes headers necessary for proper CORS handling during preflight checks made by the browser, ensuring that only the designated frontend server is allowed for preflighted requests. "
   ]
  },
  {
   "cell_type": "code",
   "execution_count": null,
   "metadata": {},
   "outputs": [],
   "source": [
    "if ($request_method = OPTIONS) {\n",
    "    add_header \"Access-Control-Allow-Credentials\" \"true\" always;\n",
    "    add_header \"Access-Control-Allow-Origin\"  \"https://nighthawkcoders.github.io\" always;\n",
    "    add_header \"Access-Control-Allow-Methods\" \"GET, POST, PUT, OPTIONS, HEAD\" always;\n",
    "    add_header \"Access-Control-Allow-MaxAge\" 600 always;\n",
    "    add_header \"Access-Control-Allow-Headers\" \"Authorization, Origin, X-Requested-With, Content-Type, Accept\" always;\n",
    "    return 204;\n",
    "}"
   ]
  },
  {
   "cell_type": "markdown",
   "metadata": {},
   "source": [
    "## Cookies\n",
    "\n",
    "![Cookie](https://files.catbox.moe/yxzao5.png)\n",
    "\n",
    "Cookies are small pieces of data stored on the user's browser by website\n",
    "- Primarily used for session management, user authentication, and tracking user behavior.\n",
    "- Store authentication tokens to allow the user to stay authenticated on the server\n",
    "- Sent between the client (browser) and the server with each HTTP request, providing a way to maintain stateful information.\n",
    "- With each interaction, the server can store the user session, manage session info, and store user preferences\n",
    "\n",
    "\n",
    "### Cookies and JWT\n",
    "\n",
    "Cookies can be used to store JWTs.\n",
    "- When a user logs in, the server can send a JWT as a cookie, and the browser will include the JWT in subsequent requests to the server.\n",
    "- Stateless authentication while still leveraging the benefits of cookies for managing sessions and user information.\n",
    "\n",
    "The process of maintaining tokens in cookies and transmitting them in HTTP requests involves several steps (we've gone over this earlier, but lets go through it again in the context of cookies):\n",
    "\n",
    "1. Token Generation and Storage:\n",
    "- When a user logs in, the server generates a token (e.g., JWT - JSON Web Token) containing user information and possibly permissions.\n",
    "- This token is then stored in a cookie on the user's device. Cookies are pieces of data sent from the server and stored on the client side.\n",
    "2. Cookie Storage and Retrieval:\n",
    "- The cookie is typically stored in the user's browser. It includes attributes such as domain, path, expiration time, and the secure flag.\n",
    "- For subsequent requests, the browser automatically includes the relevant cookies in the HTTP headers.\n",
    "3. Transmission in HTTP Request:\n",
    "- When the user makes an HTTP request to the server (e.g., by navigating to a different page or sending an AJAX request), the browser includes the cookies associated with the domain in the request headers.\n",
    "- The server extracts the token from the cookie in the incoming HTTP request.\n",
    "4. Token Verification:\n",
    "- The server verifies the token to ensure its authenticity and integrity. This involves checking the signature in the case of JWT.\n",
    "- If the token is valid, the server can extract user information and use it to process the request."
   ]
  },
  {
   "cell_type": "markdown",
   "metadata": {},
   "source": [
    "## Postman\n",
    "\n",
    "![Postman](https://files.catbox.moe/dp76tr.webp)\n",
    "\n",
    "Postman serves as a valuable tool in the realm of computer science, specifically designed for testing and interacting with Application Programming Interfaces (APIs). Postman can be likened to a sophisticated testing environment that facilitates the exploration of API functionalities.\n",
    "\n",
    "Within Postman, users can craft and dispatch HTTP requests to APIs, allowing for a comprehensive examination of how different software components communicate and respond. This tool is instrumental in ensuring the seamless integration of APIs into software applications. Its intuitive interface provides a user-friendly platform to engage in the essential practice of testing and validating API behavior.\n",
    "\n",
    "### Postman and JWT:\n",
    "\n",
    "Postman allows you to include JWTs in your requests easily. Here's different ways of how you can use Postman to send a request with a JWT:\n",
    "\n",
    "1. Authorization Tab\n",
    "- Open your request in Postman.\n",
    "- Go to the \"Authorization\" tab.\n",
    "- Select \"Bearer Token\" from the \"Type\" dropdown.\n",
    "- Paste your JWT token in the \"Token\" field.\n",
    "2. Headers:\n",
    "- Enter the JWT in the headers manually using the \"Headers\" tab by adding a key-value pair like Authorization: Bearer YOUR_JWT_TOKEN.\n",
    "\n",
    "This way, Postman enables you to simulate API requests with JWTs, ensuring that your authentication mechanisms are working as expected. If everything is working as expected, you will recieve a status code in the 2xx range (e.g., 200 OK) which typically indicates success. If you do not recieve a 200 OK message, Postman will let you know what is wrong so you can catch errors in your code. \n",
    "\n",
    "### Postman and Cookies:\n",
    "\n",
    "Similar to JWT, Postman allows you to manage cookies as efficently. Here's different ways you can work with cookies in Postman:\n",
    "\n",
    "1. Cookies Tab:\n",
    "- Open your request in Postman.\n",
    "- Navigate to the \"Cookies\" tab.\n",
    "- Add the necessary cookies by providing the key-value pairs.\n",
    "2. Headers:\n",
    "- Cookies can also be included in the request headers manually."
   ]
  },
  {
   "cell_type": "markdown",
   "metadata": {},
   "source": [
    "## Anatomy of Python Flask Repo \n",
    "### ([Teacher Flask Repo](https://github.com/nighthawkcoders/flask_portfolio))\n",
    "\n",
    "![Part1](https://files.catbox.moe/vqejur.png)\n",
    "![Part1](https://files.catbox.moe/glrmpa.png)\n",
    "\n",
    "- main.py: The Python source file responsible for running, testing, and debugging your project. Its role is central to the execution of the entire project.\n",
    "- Dockerfile and docker-compose.yml: These files play a vital role in running and testing your project within a Docker container, providing a simulated deployment environment, such as on AWS. They are crucial to ensuring the consistent functionality of your project across diverse machines.\n",
    "- instances: Serving as the base location for data files meant to persist on the server, this directory retains files even after a web application restart. It stands apart from other files, which get recreated during restarts.\n",
    "- static: Positioned as the foundational storage for files intended to be cached and concealed by the web server, this directory commonly houses unchanging files like images or JavaScript files throughout web server execution.\n",
    "- api: Housing code that manages requests from external servers, this directory acts as the bridge connecting the external world to the logic and code within the rest of your project.\n",
    "- model: Within this directory, you'll find files implementing backend functionality for various files in the api directory, such as direct interaction with the database.\n",
    "- templates: This section holds files and subdirectories crucial for supporting the home and error pages of your project's site."
   ]
  }
 ],
 "metadata": {
  "language_info": {
   "name": "python"
  },
  "orig_nbformat": 4
 },
 "nbformat": 4,
 "nbformat_minor": 2
}
