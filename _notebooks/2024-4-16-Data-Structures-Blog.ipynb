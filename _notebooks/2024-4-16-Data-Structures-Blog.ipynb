{
 "cells": [
  {
   "cell_type": "markdown",
   "metadata": {},
   "source": [
    "---\n",
    "comments: true\n",
    "layout: post\n",
    "title: Data Structures\n",
    "description:  \n",
    "type: tangibles\n",
    "courses: { csp: {week: 30} }\n",
    "---"
   ]
  },
  {
   "cell_type": "markdown",
   "metadata": {},
   "source": [
    "# Sqlite Editor\n",
    "\n",
    "- ![image](https://i.ibb.co/C710qj1/image.png)\n",
    "## Here we have the unique collection with the different columns such as:\n",
    "- the name\n",
    "- description\n",
    "- views\n",
    "- the video name stored locally\n",
    "- thumbnail image name stored within the instances\n",
    "- _videoID to correspond to each video\n",
    "- userID to correspond who uploaded the video\n",
    "- genre of the video for sorting\n",
    "\n",
    "## Code to Initialize and Create Test Code Data:\n",
    "\n",
    "- ![image](https://i.ibb.co/0hBVTQP/image.png)\n",
    "- In this part we create the table with the initial test data of different videos and their features.\n",
    "- ![image](https://i.ibb.co/VMzRmXr/image.png)\n",
    "- Here's the creation of the different videos: we utilize the upload_folder which is in the (instance/volumes/uploads) to access the different pictures. After searching for an image in that directory it's converted to base64 and passed to the create method.\n",
    "- ![image](https://i.ibb.co/khDLQ8N/image.png)\n",
    "- After decoding the base64 image that we passed into the create method, the new image file turns into it's name with ID+name, Then we commit the new image file changes into the database of the thumbnail column and the videoID as the ID.\n",
    "\n",
    "# List and Dictionaries\n",
    "\n",
    "## Debugger \n",
    "- ![image](https://i.ibb.co/ZHNfmp6/image.png)\n",
    "- Here we have a list of each user \n",
    "\n",
    "##"
   ]
  }
 ],
 "metadata": {
  "kernelspec": {
   "display_name": "Python 3",
   "language": "python",
   "name": "python3"
  },
  "language_info": {
   "codemirror_mode": {
    "name": "ipython",
    "version": 3
   },
   "file_extension": ".py",
   "mimetype": "text/x-python",
   "name": "python",
   "nbconvert_exporter": "python",
   "pygments_lexer": "ipython3",
   "version": "3.11.9"
  },
  "orig_nbformat": 4
 },
 "nbformat": 4,
 "nbformat_minor": 2
}
