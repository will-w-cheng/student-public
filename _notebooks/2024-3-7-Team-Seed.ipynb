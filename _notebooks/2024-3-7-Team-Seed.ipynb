{
 "cells": [
  {
   "cell_type": "markdown",
   "metadata": {},
   "source": [
    "---\n",
    "toc: true\n",
    "comments: true\n",
    "layout: post\n",
    "title: Team Seed\n",
    "description: Starting seed for our team\n",
    "type: tangibles\n",
    "courses: { csp: {week: 25} }\n",
    "---\n"
   ]
  },
  {
   "cell_type": "markdown",
   "metadata": {},
   "source": [
    "# Completion of the 90% seed\n",
    "- [Our team blog](https://napoleon-bonaparte-official.github.io/corsica-blog/)\n",
    "\n",
    "# Team Progress\n",
    "\n",
    "## Features Prior to Implementation\n",
    "\n",
    "### Description of features prior to implementation:\n",
    "\n",
    "\n",
    "\n",
    "* Design and planning\n",
    "* Key features\n",
    "* [Features prior to implementation](https://kinetekenergy.github.io/blog/posts/Checkpoint_IPYNB_2_/)\n",
    "\n",
    "### Planning table of issues and features:\n",
    "\n",
    "Features:\n",
    "\n",
    "|Features|Link|\n",
    "|-|-|\n",
    "|View count which updates whenever someone views a video|[Issue](https://github.com/Napoleon-Bonaparte-Official/corsica-blog/issues/3)|\n",
    "|Video categories to sort videos and choose which category to watch|[Issue](https://github.com/Napoleon-Bonaparte-Official/corsica-blog/issues/3)|\n",
    "|Login feature which connects to upload. When uploading a video, the user who uploaded it will be in the description and this will be automatic.|[Issue](https://github.com/Napoleon-Bonaparte-Official/corsica-blog/issues/3)|\n",
    "|Deleting user accounts and updating an email so that users can close their account and update information|[Issue](https://github.com/Napoleon-Bonaparte-Official/corsica-blog/issues/3)|\n",
    "|Allow users to add a description to their videos. They can also add a tag so that the category feature sorts it|[Issue](https://github.com/Napoleon-Bonaparte-Official/corsica-blog/issues/3)|\n",
    "\n",
    "\n",
    "\n",
    "### What we look forward to:\n",
    "- Ideation: apart from the comments and likes, we plan to add a machine learning algorithm that can recommend genres and videos based on what data we collect. \n",
    "- Test and Restrospective: Rigorous testing with the code with other perspectives in order to figure out how to debug. We're all pretty well rounded so it's easy to get help in our team\n",
    "- Coding, code, review: We plan to assign two people to this model on the frontend and backend, after a week those two people will switch. The third person helps both the backend and frontend with flexibility and implements the commment and like system.\n",
    "- Teacher/Customer Input: Last Trimester, Mr Lopez told us to incorporate a like and comment system. This trimester we plan to add that to our project.\n",
    "\n",
    "## Fosters Participation\n",
    "- Yeongsu and Will have been in a group before, so we look forward to incorporating Anthony into our project and integrating some of the things he did in his CPT project.\n",
    "\n",
    "## Weekly Crossover Review\n",
    "- Cycling throughout the roles of participation in the roles of frontend and backend, for example our Machine Learning project for our video recommendation site. The third person can work on integrating them all together or work on wherever is needed for help. \n",
    "\n",
    "## Other Miscellaneous stuff\n",
    "- Our project is personalized (homepages), test data for login (will cheng and yeongsu kim)\n",
    "- Our project works at all times, and was deployed at one point fully working (can't really show it now)\n"
   ]
  },
  {
   "cell_type": "markdown",
   "metadata": {},
   "source": []
  }
 ],
 "metadata": {
  "kernelspec": {
   "display_name": "Python 3",
   "language": "python",
   "name": "python3"
  },
  "language_info": {
   "codemirror_mode": {
    "name": "ipython",
    "version": 3
   },
   "file_extension": ".py",
   "mimetype": "text/x-python",
   "name": "python",
   "nbconvert_exporter": "python",
   "pygments_lexer": "ipython3",
   "version": "3.11.7"
  }
 },
 "nbformat": 4,
 "nbformat_minor": 2
}
