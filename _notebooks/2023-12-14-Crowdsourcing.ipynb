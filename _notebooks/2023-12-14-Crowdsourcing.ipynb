{
 "cells": [
  {
   "cell_type": "markdown",
   "metadata": {},
   "source": [
    "---\n",
    "toc: true\n",
    "comments: true\n",
    "layout: post\n",
    "title: 5.4 Crowd-sourcing\n",
    "description: Crowd-sourcing lesson\n",
    "type: hacks\n",
    "courses: { csp: {week: 16} }\n",
    "---"
   ]
  },
  {
   "cell_type": "markdown",
   "metadata": {},
   "source": [
    "# Big Idea 5.4: Crowd-sourcing\n",
    "\n",
    "![Crowdsourcing](https://files.catbox.moe/u9c5bk.jpeg)\n",
    "\n",
    "## What is Crowd-sourcing?\n",
    "\n",
    "Crowd-sourcing is a way of getting help, ideas, or contributions from a large group of people, often through the internet. Instead of relying on a few experts or individuals, crowd-sourcing taps into the collective knowledge, skills, and efforts of a diverse crowd to solve problems, gather information, or create content. This is one way of preventing Computer Bias. \n",
    "\n",
    "![Crowdsourcing Types](https://files.catbox.moe/9efbro.webp)\n",
    "\n",
    "## Types of Crowd-sourcing\n",
    "\n",
    "There are several different types of crowd-sourcing:\n",
    "- Idea Crowdsourcing: Idea crowdsourcing is a collaborative approach to generating creative solutions or innovations by soliciting ideas from a large group of individuals. ex. Companies might host idea competitions where employees or the public submit ideas for new products or process improvements. Online suggestion boxes allow users to contribute ideas and feedback for website improvements or feature enhancements.\n",
    "- Data Crowdsourcing: Data crowdsourcing involves harnessing the power of a crowd to collect, process, or validate large sets of data. ex. Image labeling projects, where contributors tag and describe images to train machine learning models. Crowdsourced mapping platforms like OpenStreetMap, where volunteers contribute to creating and updating maps.\n",
    "- Microtask Crowdsourcing: Microtask crowdsourcing breaks down complex tasks into small, manageable units and distributes them among contributors to achieve rapid results. ex. Amazon Mechanical Turk, where workers perform small tasks like data entry, image recognition, or sentiment analysis for a fee.Captcha solving, where users help decipher distorted text to prove they are human, indirectly contributing to digitizing books.\n",
    "- Knowledge Crowdsourcing: Knowledge crowdsourcing involves tapping into the collective intelligence of a group to answer questions, solve problems, or provide expertise. ex. Online forums like Stack Exchange or Reddit, where users ask questions and receive answers from a community of experts.Collaborative wikis like Wikipedia, where contributors collectively create and edit content on a wide range of topics. \n",
    "- Open Source Development: Open source development refers to the collaborative creation and improvement of software, with the source code being made freely available to the public. ex. GitHub is a platform where developers contribute to open-source projects by submitting code, reporting issues, and collaborating with others. The Linux operating system is a notable example of a successful open-source project with contributions from a global community.\n",
    "We will be mainly focusing on Data Crowd-sourcing and Open Source Development"
   ]
  },
  {
   "cell_type": "markdown",
   "metadata": {},
   "source": [
    "### Popcorn Hack\n",
    "\n",
    "Can you think of other uses for the different types of crowd-sourcing?\n",
    "- I think other times that crowd sourcing could be useful is surveying data for businesses and could be a collabrotive approach to crowd sourcing. "
   ]
  },
  {
   "cell_type": "markdown",
   "metadata": {},
   "source": [
    "### Data Crowdsourcing:\n",
    "\n",
    "Data crowdsourcing is a collaborative approach that outsources the collection, processing, or validation of data to a large and diverse group of contributors. This method is particularly advantageous when tasks require substantial data processing within a short timeframe.\n",
    "\n",
    "- Image Labeling Projects: Contributors annotate images with relevant labels, aiding in the training and improvement of machine learning models.\n",
    "- Mapping and Geospatial Data: Projects like OpenStreetMap leverage global contributors to create and update detailed maps.\n",
    "- Sentiment Analysis Tasks: Contributors label text data with positive, negative, or neutral sentiments, providing valuable insights for sentiment analysis models.\n",
    "- Data Verification: Tasks involve contributors checking and correcting information, ensuring the accuracy and reliability of datasets.\n",
    "\n",
    "The scale, speed, and cost-effectiveness of data crowdsourcing make it a powerful tool, with the diversity of contributors enhancing the richness of the collected data. However, challenges include maintaining quality control, designing clear tasks, and addressing privacy concerns when handling sensitive information."
   ]
  },
  {
   "cell_type": "markdown",
   "metadata": {},
   "source": [
    "### Open Source Development:\n",
    "\n",
    "Open source development is a collaborative software development approach where the source code is made freely available to the public, allowing contributors worldwide to modify, enhance, and distribute the software. GitHub serves as a prominent platform for hosting and collaborating on open-source projects, enabling developers to contribute through code submissions, issue reporting, and discussions.\n",
    "\n",
    "Examples of Successful Open-Source Projects: \n",
    "- Linux Operating System, Developed and maintained by a global community of contributors.\n",
    "- Apache HTTP Server: A foundational web server on the internet.\n",
    "- WordPress:A widely used content management system.\n",
    "\n",
    "The benefits of open source development include fostering community collaboration, rapid innovation through contributions, and promoting transparency as users can inspect, modify, and distribute the source code. Challenges include coordinating contributions from a diverse community, addressing maintainer burnout, and ensuring compliance with project licensing terms. Despite these challenges, open source development remains a powerful model for creating and maintaining software that is both innovative and openly accessible.\n",
    "\n",
    "![crowdsourcing1](https://files.catbox.moe/kllfkj.jpeg)"
   ]
  },
  {
   "cell_type": "markdown",
   "metadata": {},
   "source": [
    "## Public Data Sets:\n",
    "\n",
    "Public data sets are raw data that governments, academic institutions, and other organizations make freely available to the public. By providing open access to massive stores of data, public data sets power innovation through crowdsourcing. Essentially, they present an opportunity for crowd wisdom to uncover insights and solutions that large organizations cannot achieve alone.\n",
    "\n",
    "\n",
    "For example, Google Public Datasets offers the public access to high-value data sets on Google Cloud. This includes data covering genetics, weather patterns, demographics, economics, and more. By enabling any developer or analyst to access and experiment with the same rich data sources, Google crowdsources new discoveries across industries. Public competitions on platforms like Kaggle further demonstrate the model of giving crowds access to key data to drive breakthroughs. Kaggle hosts public competitions where data scientists compete to uncover the best predictive models and data visualizations for real-world problems posed by organizations. They also offer courses in visualizations, tensor flow AI (google's platform for AI), machine learning, and more. By providing universal access to raw data, public datasets create the essential information for crowdsourced innovation."
   ]
  },
  {
   "cell_type": "markdown",
   "metadata": {},
   "source": [
    "## Distributed Computing:\n",
    "\n",
    "\n",
    "Distributed computing platforms allow the public to donate their spare computing power to advance scientific research through crowdsourcing. An example is Folding@Home, created by Stanford University, which focuses on simulating protein folding to better understand diseases like cancer. The project sends out small computational protein folding simulations to volunteers' personal devices. Results get sent back to contribute toward a massive aggregated analysis. At its peak, Folding@Home even utilized PlayStation 3 consoles toward this goal. A similar initiative is BOINC, coordinated by UC Berkeley, which crowdsources simulations for projects ranging from math to astrophysics. For example, BOINC's Minecraft@Home sends out Minecraft world seeds to volunteers, who develop simulated versions of those worlds on their computers to send back data. While more of an experimental endeavor, Minecraft@Home demonstrates how crowdsourced computing can be leveraged creatively. By using collective resources, these platforms enable complex problems to be tackled that would not be feasible by any single system."
   ]
  },
  {
   "cell_type": "markdown",
   "metadata": {},
   "source": [
    "## Innovations:\n",
    "\n",
    "\n",
    "Crowdsourcing, with its power to gather different perspectives and resources, has fueled innovative new products and services. For example, Spotify taps into collective intelligence to improve music recommendations through user-curated collaborative playlists. By allowing groups to jointly create playlists, such as at a party, Spotify crowdsources data on music preferences. It analyzes patterns in what audiences stream and like to share new song suggestions personalized to each listener's taste. Spotify also crowdsources descriptive metadata about songs through user-submitted information that undergoes a consensus-based review. Crowdfunding platforms like Kickstarter utilize the power of crowdsourcing to turn creative ideas into reality. By allowing entrepreneurs to pitch ideas to an enormous audience, promising innovations can get democratically funded by many small supporters rather than relying on a few large investors. This facilitates inventors and creators accessing the capital they need to initiate projects that may otherwise never materialize without public support. In short, crowdsourcing mechanisms enable innovations like algorithm-personalized music libraries and creator-owned projects that can uniquely serve user needs\n",
    "\n",
    "![crowdsourcing2](https://files.catbox.moe/qiz6jr.jpeg)"
   ]
  },
  {
   "cell_type": "markdown",
   "metadata": {},
   "source": [
    "### Popcorn Hacks\n",
    "\n",
    "Can you think of any drawbacks of crowdsourcing?"
   ]
  },
  {
   "cell_type": "markdown",
   "metadata": {},
   "source": [
    "### Homework:\n",
    "\n",
    "Please answer in complete sentences and explain in detail. \n",
    "\n",
    "1. Explain the role of data crowdsourcing in machine learning projects. Provide an example of an application where image labeling by a crowd contributes to the improvement of machine learning models.\n",
    "\n",
    "Machine learning projects often utilize a lot of data sets especially for large language models such as OpenAI and a lot of the other big AI projects that are being released require a lot of texts for the language model. These models utilize a lot of language and try to predict the next word based the language it's already seen, for the AI to be developed enough to the point that it can formulate the correct sentences and predict properly it needs a large data set. Instead of manually collecting all the possible languages and filtering out for biases, crowdsourcing allows for capturing data much easier and effectively create a good model. Image labeling specific types of language and which ones are bias and aren't good for the AI to use is good for ethical concerns for the AI language learning models.\n",
    "\n",
    "2. Compare and contrast the benefits and challenges of data crowdsourcing with regard to tasks like sentiment analysis and data verification. How does the diversity of contributors enhance the overall quality of the collected data?\n",
    "\n",
    "The benefits of crowdsourcing is you get a lot of different perspectives for a bunch of different people. However, you also may index a lot of biased data or any other data that isn't necessarily really good for sentimental analysis especially because it isn't really ethical. The diversity however overall would enhance the overall quality of the collected data because of the perspective. \n",
    "\n",
    "3. Choose an open-source project mentioned in the examples, such as the Linux operating system or WordPress. Discuss the significance of global collaboration in the development of open-source software. Highlight one specific advantage and one challenge faced by open-source projects.\n",
    "\n",
    "- Global collaboration for open-source software is extremely useful in creating multiple variations and distros for Linux for example and creating a lot of different purposes and uses of the software. For example, there's examples of having UwUntu for people or Mint Linux.\n",
    "\n",
    "4. In microtask crowdsourcing, tasks are broken down into small units for contributors to complete. Explain how platforms like Amazon Mechanical Turk utilize microtask crowdsourcing. Discuss one advantage and one challenge associated with the microtask approach.\n",
    "- In microtask crowdsourcing you can break down things into small units creating things to be a lot more efficient because everyone has a clear purpose and job while being able to recycle things in a quick and timely manner. However, there is likely going to be a less cohesion within a bunch of different tasks and requires a strong use of communication and collaboration in order to cohesively work together to make things work.\n",
    "\n",
    "5. Explore Kaggle and find a database that would be useful for a CPT Project idea you have. Briefly discuss its potential purpose in your project."
   ]
  }
 ],
 "metadata": {
  "language_info": {
   "name": "python"
  },
  "orig_nbformat": 4
 },
 "nbformat": 4,
 "nbformat_minor": 2
}
