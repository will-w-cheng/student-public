{
 "cells": [
  {
   "cell_type": "markdown",
   "metadata": {},
   "source": [
    "---\n",
    "toc: true\n",
    "comments: true\n",
    "layout: post\n",
    "title: 5.2 Digital Divide Student Lesson\n",
    "description: Collegeboard Big Idea 5.2 Digital Divide Student Lesson\n",
    "type: hacks\n",
    "courses: { compsci: {week: 15} }\n",
    "---"
   ]
  },
  {
   "cell_type": "markdown",
   "metadata": {},
   "source": [
    "## Standards Covered:\n",
    "- IOC-1.C.1 - Internet access varies between socioeconomic, geographic, and demographic characteristics, as well as between countries.\n",
    "- IOC-1.C.2 - The \"digital divide\" refers to differing access to computing devices and the Internet, based on socioeconomic, geographic, or demographic characteristics.\n",
    "- IOC-1.C.3 - The digital divide can affect both groups and individuals.\n",
    "- IOC-1.C.4 - The digital divide raises issues of equity, access, and influence, both globally and locally.\n",
    "- IOC-1.C.5 - The digital divide is affected by the actions of individuals, organizations, and governments.\n"
   ]
  },
  {
   "cell_type": "markdown",
   "metadata": {},
   "source": [
    "## What is the Digital Divide? \n",
    "You could probably infer what it might be, but here it is anyway. The Digital Divide is the divde of multiple peoples, and their access to internet. These difference could be based socioeconomically, geographically, or demogrpahically. \n"
   ]
  },
  {
   "cell_type": "markdown",
   "metadata": {},
   "source": [
    "## Why do these things happen?\n",
    "Since everyone comes from differnet, socioeconomic, geographic, and demogrpahic background, different people live different lives.\n",
    "#### Three main factors:\n",
    "Socioeconomic - refers amount of money that comes into the household, and if people can afford to buy devices to connect to the internet\n",
    "Demographic - refers to the Age and Religion of a person, as those factors could limit people’s knowledge and understanding around computers\n",
    "Geographic - refers to where you are, and how much internet access you can get by being in a certain place. Some places are bustling cities with multiple opporitunities to connect to the internet, and others are deserted islands. They have different amounts of accesible internet. \n",
    "\n",
    "So therefore:\n",
    "Internet access varies between socioeconomic, geographic, and demographic characteristics, as well as between countries.\n",
    "The digital divide can affect both groups and individuals.\n",
    "The digital divide raises issues of equity, access, and influence, both globally and locally.\n",
    "The digital divide is affected by the actions of individuals, organizations, and governments.\n",
    "\n",
    "\n",
    "In some countries:\n",
    "- Computers are not that common in rural areas\n",
    "- Only a small number of websites\n",
    "- The Internet is used to protect and advocate the government\n",
    "- There is a high level of surveillance on the internet to protect the government\n"
   ]
  },
  {
   "cell_type": "markdown",
   "metadata": {},
   "source": [
    "## Examples\n",
    "\n",
    "\n",
    "Taiwan is known to have the highest internet speed in the world. When compared with Brazil, Taiwan is tiny. There would need to be more physical infrastructure to cover all that area, hence Brazil has a pretty slow internet speed.\n",
    "\n",
    "![taiwanbrazil](https://cdn.kastatic.org/ka-perseus-images/80ae17d07e0917342eeb9b0326c482912cfd1278.svg)\n",
    "\n",
    "An Island Nation\n",
    "\n",
    "Tonga is a nation of 76 islands in the Pacific, and it had very slow internet speeds until 2013 when a 514-mile-long fiber cable was installed. Unfortunately, it was severed by a ship, which cut off access for 12 entire days.\n",
    "\n",
    "![island](https://cdn.kastatic.org/ka-perseus-images/6d32c10db10347a956251062fe33a4e23c695386.png)\n",
    "\n",
    "Difficult Terrain\n",
    "\n",
    "The Himalayas Mountains, for example, act as a barrier because the region is so mountainous, making it extremely difficult for the internet to pass through.\n",
    "\n",
    "![difficultterrain](https://cdn.kastatic.org/ka-perseus-images/4654e2de44761aa00465edc835e8ebb7d937e459.png)\n",
    "\n",
    "Government Restrictions\n",
    "Internet Black Holes\n",
    "In 2015, North Korea was said to have the lowest rate of access in the world and the most rigid and centralized control. \n",
    "There is only one ISP in North Korea, allowing for a maximum of only 1024 IP addresses, and only 28 websites.\n",
    "\n",
    "![kpwebsite](https://cdn.kastatic.org/ka-perseus-images/6c21d4270c9c92f218ff830bf012eb6af5dbdb9c.png)\n",
    "\n",
    "Internet Shutdowns\n",
    "In 2019, Iran shut down access to the Internet after there were protests about high gas prices. The network connectivity in Iran was about 5% for five days.\n",
    "\n",
    "![iran](https://cdn.kastatic.org/ka-perseus-images/9df506485c8612b10c60cea9807476116b50ed10.png)\n",
    "\n",
    "Internet Kill Switches\n",
    "\n",
    "Russia has recently implemented a kill switch that will completely shut off access to the internet with the flick of a switch, in case of an emergency, like a massive hacker attack.\n",
    "\n",
    "![killswitch](https://cdn.kastatic.org/ka-perseus-images/ab7440b3036bfd65a649dd39ff7bab8facf2980a.png)"
   ]
  },
  {
   "cell_type": "markdown",
   "metadata": {},
   "source": [
    "## Analysis of Digital Divide:\n",
    "\n",
    "Here’s an example of what we’ve learned in action:\n",
    "\n",
    "Teledensity and land area being pervided by CIA Factobook and World Bank for GDP\n",
    "\n",
    "Benin: Benin has a teledensity of <1 per 100 people, along with a GDP of 1.96 billion and a land area of 110,622 sq km\n",
    "\n",
    "France: France 110 per 100 people along with a GDP of 1270 billion and a land area of  640,427 sq km\n",
    "\n",
    "America: America has 110 per 100 people along with a GDP of 5960 billion and a land area of 9,147,593 sq km\n",
    "\n",
    "Taiwan: Taiwan has 120 phones per 100 people and 116.62 billion by Statista and a land area of 32,260 sq km\n",
    "\n",
    "Not to get into colonization, because I am not going to give you a conclusive overview of how that plays out to Benin or other African countries yet this could be a contributing factor, so please research this if you want to learn more about this topic.\n",
    "\n",
    "Though to leave this onto a happier note, here’s what’s being done about in Rwanda. Their Broad Band Internet is connecting more people to have a 90 to 100 person ratio of internet access. According to a branch of the UN, this is allowing people to more easily access banks because a click of a button is easier than a several mile journey to the bank. Along with this according to the accompanying report in 2018 outlines how OECD countries (except Japan) have plans on how they would implement broadband access to these countries. \n"
   ]
  },
  {
   "cell_type": "markdown",
   "metadata": {},
   "source": [
    "### Fun Fact\n",
    "In Yemen (a country in the middle east), it would take an average of 30 hours, 1 minute, and 40 seconds to download a 5GB movie. In Taiwan, it would take only 8 minutes, which is over 225 times faster. This truly shows the massive gap between urban and rural countries.\n"
   ]
  },
  {
   "cell_type": "markdown",
   "metadata": {},
   "source": [
    "## Effects \n",
    "As a effect of the digital divide, people dont have access to the internet. The internet can be a pretty useful tool. This keeps from fostering economic growth, individual success, and better social relations. The digital divide takes away children's ability to learn and grow in low-income school districts. "
   ]
  },
  {
   "cell_type": "markdown",
   "metadata": {},
   "source": [
    "## What are some ways to help stop the Digital Divide?\n",
    "- Increase connectivity in communities \n",
    "- Provide widespread internet access to help users gain new learning opportunities\n",
    "- Access to computing devices"
   ]
  },
  {
   "cell_type": "markdown",
   "metadata": {},
   "source": [
    "## Practice Problems\n",
    "Which of the following is true:\n",
    "\n",
    "\tA - Allowing students to bring their computers to school would help reduce the digital divide.\n",
    "\n",
    "\tB - A study showing that men and women use Snapchat in the same proportion is an example of the digital divide.\n",
    "\n",
    "\tC - Low-cost satellite internet services for places where internet connectivity has been unreliable and can help reduce the digital divide.\n",
    "\n",
    "\tD - An online software business is failing as a result of the digital divide.\n",
    "\n",
    "Which of the following school policies is most likely to have a positive impact on the digital divide? Explain your answer.\n",
    "\n",
    "    Α - A school allows students to bring a graphing calculator from home to complete in-class mathematics assignments.\n",
    "\n",
    "    B - A school allows students to bring a tablet computer to class every day to participate in graded quizzes.\n",
    "\n",
    "    C - A school provides a laptop or tablet computer to all students enrolled at the school.\n",
    "    \n",
    "    D - A school recommends that all students purchase a computer D with as much processing speed as possible so that projects run faster.\n",
    "\n"
   ]
  },
  {
   "cell_type": "markdown",
   "metadata": {},
   "source": [
    "\n",
    "## HW:\n",
    "**1. Which of the following contributes to the digital divide?**\n",
    "\n",
    "I: Cost of technology\n",
    "\n",
    "II: Access for the disabled\n",
    "\n",
    "III: Lack of education\n",
    "\n",
    "IV: Lower-performance computers\n",
    "\n",
    "A. I and II only\n",
    "\n",
    "B. I, II, and III only\n",
    "\n",
    "C. I, II, III, and IV\n",
    "\n",
    "D. None of the above\n",
    "\n",
    "\n",
    "|\n",
    "\n",
    " \n",
    "**2. One of the following is NOT an effect of the digital divide.**\n",
    "\n",
    "A - Online polls underrepresent rural areas.\n",
    "\n",
    "B - Certain problems are not possible to solve in a reasonable time, so\n",
    "approximate solutions are used.\n",
    "\n",
    "C - Twitter opinions are over-representative of young and urban people\n",
    "\n",
    "D - Senior citizens are less trained to access online resources during\n",
    "\n",
    "\n",
    "|\n",
    "\n",
    "\n",
    "**3. Pat the Billionaire reads about the digital divide and wants to do something to improve it. Which of the following would be the best?**\n",
    "\n",
    "A - Use twitter to tweet helpful computer hints to people who do not know\n",
    "how to use computers\n",
    "\n",
    "B - Establish a free internet service for workers at New York City financial\n",
    "institutions\n",
    "\n",
    "C - Build internet infrastructure for rural cities in the United States\n",
    "\n",
    "D - Build a new skyscraper with ultra-fast internet for office workers working at Amazon\n",
    "\n",
    "\n",
    "|\n",
    "\n",
    "\n",
    "**4. One of these is FALSE. Which?**\n",
    "\n",
    "A - A for-profit company could help reduce the digital divide by offering reduced pricing to geographically remote areas.\n",
    "\n",
    "B - A non-profit company can help reduce the digital divide by refurbishing phones and donating them to low-income areas.\n",
    "\n",
    "C - A movie celebrity could eliminate the digital divide in a city by donating enough money to pay for free computers and wireless hotspots.\n",
    "\n",
    "D - A for-profit company could help reduce the digital divide by paying for\n",
    "tutors for introductory computer science classes at schools around the state\n",
    "\n",
    "\n",
    "|\n",
    "\n",
    "\n",
    "**Extra Credit:**\n",
    "Write a few sentences answering the prompt (90%+):\n",
    "How can you help end the digital divide?"
   ]
  }
 ],
 "metadata": {
  "language_info": {
   "name": "python"
  },
  "orig_nbformat": 4
 },
 "nbformat": 4,
 "nbformat_minor": 2
}
