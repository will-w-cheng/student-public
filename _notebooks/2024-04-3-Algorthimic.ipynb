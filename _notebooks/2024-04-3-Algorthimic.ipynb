{
 "cells": [
  {
   "cell_type": "markdown",
   "metadata": {},
   "source": [
    "---\n",
    "comments: true\n",
    "layout: post\n",
    "title: Algorthmic Rhythm\n",
    "description: Looking at the different sorting algorthims presented in a unique and funny way by the CSA students. \n",
    "type: tangibles\n",
    "courses: { csp: {week: 28} }\n",
    "---"
   ]
  },
  {
   "cell_type": "markdown",
   "metadata": {},
   "source": []
  },
  {
   "cell_type": "markdown",
   "metadata": {},
   "source": [
    "# Types of sorting\n",
    "\n",
    "## Insertion Sort\n",
    "- Insertion sorting in this example, included a bunch of different pool noodle lengths. The goal is to sort the noodle lengths in order. \n",
    "- You go through down the list, in this example you can insert the corresponding pool noodles based on the sizes of the previous elements.\n",
    "- The worst possible case time scenario is O(N^2) because you might have a nested for loop to sort the element, thus it's not the fastest possible way to sort but it's a method. \n",
    "\n",
    "## Quick sort\n",
    "- The pivot splits the array into two different arrays, one that is bigger goes into a bigger array, and the smaller one goes into the smaller sort. This process continues through rrecursion\n",
    "- O(n*(log(n))) insanely quickly\n",
    "\n",
    "## Bubble sort\n",
    "- Worst case o(n^2) best case is o(n)\n",
    "- Almost basically the same thing as insertion sort but it only looks at the one previous behind it. \n",
    "\n",
    "## Merge sort\n",
    "- O(log * (n))\n",
    "- Split the lists in half repeatedly until each list is split into a group of two\n",
    "- Then that moves onto combining a group of four and then sorts within there continously having bigger groups of lists until the whole thing is sorted.\n",
    "\n",
    "## Selection Sort\n",
    "- Loop through the list in each sub-selection and place the the minimum in the beginning ofo the list in order to sort it. Then you can take the unsorted sub-selections of the list out to fix it. \n",
    "- O(N^2) time complexity"
   ]
  }
 ],
 "metadata": {
  "kernelspec": {
   "display_name": "Python 3",
   "language": "python",
   "name": "python3"
  },
  "language_info": {
   "codemirror_mode": {
    "name": "ipython",
    "version": 3
   },
   "file_extension": ".py",
   "mimetype": "text/x-python",
   "name": "python",
   "nbconvert_exporter": "python",
   "pygments_lexer": "ipython3",
   "version": "3.11.9"
  },
  "orig_nbformat": 4
 },
 "nbformat": 4,
 "nbformat_minor": 2
}
