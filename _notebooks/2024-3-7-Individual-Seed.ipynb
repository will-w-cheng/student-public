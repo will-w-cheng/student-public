{
 "cells": [
  {
   "cell_type": "markdown",
   "metadata": {},
   "source": [
    "---\n",
    "toc: true\n",
    "comments: true\n",
    "layout: post\n",
    "title: Individual Seed\n",
    "description: Starting seed that is related to us as individuals\n",
    "type: tangibles\n",
    "courses: { csp: {week: 25} }\n",
    "---\n"
   ]
  },
  {
   "cell_type": "markdown",
   "metadata": {},
   "source": [
    "# Requirements\n",
    "- Exceptional achievement.  93% or better in last trimester of CompSci.\n",
    "![94](https://files.catbox.moe/qagvfy.png)\n",
    "- Exemplar in Team work. I usually try and help other people when I can and help out people whenever I'm free and able to work on stuff for other people. One big point that I think I've improved on Trimester 2 is teaching people.\n",
    "\n",
    "# Progress\n",
    "\n",
    "- [Localizing part 1](https://github.com/Napoleon-Bonaparte-Official/corsica-frontend/commit/96fee2b30a167281c3c636c4305478ee5f74c298)\n",
    "- [Localizing part 2](https://github.com/Napoleon-Bonaparte-Official/corsica-frontend/commit/41d7a4e0986426980209eb2b57fbbdc8ff5c2a64)\n",
    "- [CPT Individaul Review](https://will-w-cheng.github.io/student-public//2024/02/25/Final-Review_IPYNB_2_.html)\n",
    "- [VideoID being null](https://github.com/Napoleon-Bonaparte-Official/corsica-backend/commit/00f2e4a3f99cea3a05d50674e7b41cafccd83410)\n",
    "- [First Iteration of Videos](https://github.com/Napoleon-Bonaparte-Official/corsica-backend/commit/f3b8d3fff3531118765f6702bef850bcdc3b7996) to [Video ID Reading](https://github.com/Napoleon-Bonaparte-Official/corsica-backend/commit/73837056c97a24dae4919947e12781653c1bad91)\n",
    "- \n"
   ]
  },
  {
   "cell_type": "markdown",
   "metadata": {},
   "source": []
  }
 ],
 "metadata": {
  "kernelspec": {
   "display_name": "Python 3",
   "language": "python",
   "name": "python3"
  },
  "language_info": {
   "codemirror_mode": {
    "name": "ipython",
    "version": 3
   },
   "file_extension": ".py",
   "mimetype": "text/x-python",
   "name": "python",
   "nbconvert_exporter": "python",
   "pygments_lexer": "ipython3",
   "version": "3.11.7"
  }
 },
 "nbformat": 4,
 "nbformat_minor": 2
}
