{
 "cells": [
  {
   "cell_type": "markdown",
   "metadata": {},
   "source": [
    "---\n",
    "toc: true\n",
    "comments: true\n",
    "layout: post\n",
    "title: Night At the Museum\n",
    "description: Del Norte\n",
    "type: tangibles\n",
    "courses: { csp: {week: 19} }\n",
    "---"
   ]
  },
  {
   "cell_type": "markdown",
   "metadata": {},
   "source": [
    "# Night At the Museum\n",
    "\n",
    "## Glows/Growths \n",
    "### Glows\n",
    "- Our project worked really well and everything went super smoothly\n",
    "- People really liked coming to our table to watch youtube videos, especially something so relatable\n",
    "### Growths\n",
    "- If deployment servers weren't down then we could get users to upload their own videos from their phone by scanning a QR code and would've made it super interactive!\n",
    "- Add a comment and like system to make the project even more interactive\n",
    "\n",
    "## Feedback\n",
    "Even though a lot of parents and school students liked our project, a lot of people would've liked the addition of a like and comment button system. The addition to that would've been really interactive and truly extend our project to be parallel to something like youtube. \n",
    "\n",
    "\n",
    "## Images\n",
    "\n",
    "- ![Image1](https://files.catbox.moe/blen6q.jpg)\n",
    "- ![Image2](https://files.catbox.moe/olwdbs.jpg)\n",
    "- ![Image3](https://files.catbox.moe/2hn7cg.jpg)\n",
    "\n",
    "## What impressed me\n",
    "- Related to Compsci: I was really impressed by Shuban's group which had a twitter type website which you could send and post different messages and tweets. While it wasn't as technical as our video platform, I think it showed us how important things such as comments and likes can really be.\n",
    "- Unrelated to Compsci: It was really cool to see a lot of younger syblings there being inspired and enthusiastic for the different computer science projects there. Additionally, showing them different videos on our platform really showed the impact that computer science projects can have on other people"
   ]
  },
  {
   "cell_type": "markdown",
   "metadata": {},
   "source": []
  }
 ],
 "metadata": {
  "language_info": {
   "name": "python"
  },
  "orig_nbformat": 4
 },
 "nbformat": 4,
 "nbformat_minor": 2
}
