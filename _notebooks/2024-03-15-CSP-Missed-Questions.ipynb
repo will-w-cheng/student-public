{
 "cells": [
  {
   "cell_type": "markdown",
   "metadata": {},
   "source": [
    "---\n",
    "comments: true\n",
    "layout: post\n",
    "title: MCQ missed questions\n",
    "description: Reflectiona and questions that I missed\n",
    "type: tangibles\n",
    "courses: { csp: {week: 26} }\n",
    "---"
   ]
  },
  {
   "cell_type": "markdown",
   "metadata": {},
   "source": [
    "65/70\n",
    "\n",
    "I kinda ran out of time at the end and didn't realize there was multiple choice selections, so I definitely didn't perform as well as I wanted. In the future I need to get faster at answering.\n",
    "\n",
    "![image.png](https://i.ibb.co/YhXk3M8/image.png)\n",
    "- I didn't know what hueristic approach meant so I ended up not picking anything for this question. Because Algorithim 1 does not give us any allocated time restrictions we have 0 idea of how it would go, and thus for it to be a reasonable heuristic approach we know Algorithm 2 runs reasonably within time (n^2) and thus we can choose that over the other options\n",
    "\n",
    "![image.png](https://i.ibb.co/Hdf8LQ0/image.png)\n",
    "- Even if you are greater then the age of 65 after that you can't be considered an adult only until AFTER you are determined to be over the age of 18, even if you are supposed to be a senior citizen.\n",
    "\n",
    "![image.png](https://i.ibb.co/xmLr1zT/image.png)\n",
    "- NOT humid will evaluate to true because it's false, this was a little bit of a misread on my part and I didn't realize you could select multiple. And then obviously since OR only requires one true it'll end up being true\n",
    "\n",
    "![image.png](https://i.ibb.co/w6j7PZg/image.png)\n",
    "- This one won't work if the duplicates aren't in consecutive order. I didn't really consider the other option and I kinda went down up reading this question, but yeah very simple logic error\n",
    "\n",
    "![image.png](https://i.ibb.co/C870MWG/image.png)\n",
    "- I should've looked at the bottom option for the metadata which also includes the location and time. Honestly I just didn't realize there were multiple choices at this point and I was running out of time\n",
    "\n",
    "\n"
   ]
  }
 ],
 "metadata": {
  "kernelspec": {
   "display_name": "Python 3",
   "language": "python",
   "name": "python3"
  },
  "language_info": {
   "codemirror_mode": {
    "name": "ipython",
    "version": 3
   },
   "file_extension": ".py",
   "mimetype": "text/x-python",
   "name": "python",
   "nbconvert_exporter": "python",
   "pygments_lexer": "ipython3",
   "version": "3.11.8"
  },
  "orig_nbformat": 4
 },
 "nbformat": 4,
 "nbformat_minor": 2
}
