{
 "cells": [
  {
   "cell_type": "markdown",
   "metadata": {},
   "source": [
    "---\n",
    "toc: true\n",
    "comments: true\n",
    "layout: post\n",
    "title: Final Individual Review\n",
    "description: CPT project review\n",
    "type: tangibles\n",
    "courses: { csp: {week: 20} }\n",
    "---"
   ]
  },
  {
   "cell_type": "markdown",
   "metadata": {},
   "source": [
    "# Project Overview\n",
    "- We had the idea of creating videos for people online to share, post, and watch videos they enjoy. As a kid I always really liked watching YouTube and so I wanted to see how it would feel from a developer's perspective to try and build something similar.\n",
    "\n",
    "# My Feature\n",
    "My feature is assigning a VID system to the different videos\n",
    "\n",
    "[Collegboard Requirments](https://apcentral.collegeboard.org/media/pdf/ap-csp-student-task-directions.pdf)\n",
    "\n",
    "| Collegeboard Requirements | Me |\n",
    "|---------------------------|----|\n",
    "| Instructions for input from one of the following: the user, a device, an online datas stream, a file.  | Our site takes videos and uploads them to a specific directory. From there the model will assign a specific Video user ID. ![test](https://files.catbox.moe/u5ykgy.png) |\n",
    "| Use of at least one list (or other collection type) to represent a collection of data that is stored and used to manage program complexity and help fulfill the users purpose.  | An example of a collection of data that is stored is the Video ID and other attributes that are stored per each upload of the video ![test2](https://files.catbox.moe/0mb9sp.png)|\n",
    "| At least one procedure that contirubted to the program's intended purpose where you have defined: the name, return type, one or more parameters:  | This procedure has a name(create), a return(self), and parameters(self, base64 encoded image for thumbnail): ![test3](https://files.catbox.moe/0mb9sp.png)  |\n",
    "| An algorithm that includes sequencing, selection, and iteration that is in the body of the selected procedure  | This snippet shows the sequencing, selection, and iteration throughout the videos, specifically note the Video UserID: ![test4](https://files.catbox.moe/0gsba4.png)  |\n",
    "| Calls to your student-developed procedure:  | calling initVideos: ![test5](https://files.catbox.moe/1je33h.png)  |\n",
    "| Instructions for output (tactile, audible, visual, or ) based on input and program functionality  | This code that corresponds to the right videoID for clicking on the corresponding video: ![test6](https://files.catbox.moe/i967cp.png) |\n"
   ]
  },
  {
   "cell_type": "markdown",
   "metadata": {},
   "source": [
    "# Component B: Video\n",
    "\n",
    "[Link to Video](https://drive.google.com/file/d/16gl8YmNK9re8VfzfjxAPCM6vpX0nwTpm/view?usp=sharing)\n",
    "\n",
    "| Collegboard Requirements | My Video |\n",
    "|---------------------------|----------|\n",
    "| Input to program          | MP4 of a video |\n",
    "| At least one aspect of the functionality of your program | VideoID uploaded to the database successfully with a specific video ID |\n",
    "| Output produced by program | Video uploaded redirects to the correct link with the specific VideoID |\n",
    "| My video does not have    | Successful message after uploading the video so you confirm that it was uploaded from the frontend |\n",
    "| My video is               | a .mp4, less than 1 minute in length, less than 30MB in file size. |\n"
   ]
  },
  {
   "cell_type": "markdown",
   "metadata": {},
   "source": []
  }
 ],
 "metadata": {
  "kernelspec": {
   "display_name": "Python 3",
   "language": "python",
   "name": "python3"
  },
  "language_info": {
   "codemirror_mode": {
    "name": "ipython",
    "version": 3
   },
   "file_extension": ".py",
   "mimetype": "text/x-python",
   "name": "python",
   "nbconvert_exporter": "python",
   "pygments_lexer": "ipython3",
   "version": "3.11.7"
  }
 },
 "nbformat": 4,
 "nbformat_minor": 2
}
