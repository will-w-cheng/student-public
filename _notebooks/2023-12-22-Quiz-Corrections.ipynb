{
 "cells": [
  {
   "cell_type": "markdown",
   "metadata": {},
   "source": [
    "---\n",
    "toc: true\n",
    "comments: true\n",
    "layout: post\n",
    "title: Quiz Corrections\n",
    "description: Quiz Corrections\n",
    "type: tangibles\n",
    "courses: { csp: {week: 16} }\n",
    "---"
   ]
  },
  {
   "cell_type": "markdown",
   "metadata": {},
   "source": [
    "# Corrections\n",
    "\n",
    "## Question 1\n",
    "- ![Question 1](https://files.catbox.moe/3a3yzg.png)\n",
    "- I misread the question and happened to read that there were only 3 one's which resulted in me thinking it would be 128 + 64 + 32 = 224 as the value for the last number. In the future I should make sure I double check my work and answers, practicing more will help me become more detail orientated. \n",
    "\n",
    "## Question 2\n",
    "- ![Question 2](https://files.catbox.moe/1z0f4j.png)\n",
    "- Here I picked the right condition but I think I accidentally read the sign as the wrong sign and thus I swapped it to be the wrong condition. Again, it's just detail orientation\n",
    "\n",
    "## Question 3\n",
    "- ![Question 3](https://files.catbox.moe/blvu5o.png)\n",
    "- I should have realized that there were multiple choices that I could pick. If Y is negative, then the loop should never get executed and the count would return the unintended value of 0. \n"
   ]
  },
  {
   "cell_type": "markdown",
   "metadata": {},
   "source": []
  }
 ],
 "metadata": {
  "language_info": {
   "name": "python"
  },
  "orig_nbformat": 4
 },
 "nbformat": 4,
 "nbformat_minor": 2
}
