{
 "cells": [
  {
   "cell_type": "markdown",
   "metadata": {},
   "source": [
    "---\n",
    "toc: true\n",
    "comments: true\n",
    "layout: post\n",
    "title: Week 10\n",
    "description: Plans\n",
    "courses: { csp: {week: 10} }\n",
    "type: plans\n",
    "---"
   ]
  },
  {
   "cell_type": "markdown",
   "metadata": {},
   "source": [
    "# Plans for this week\n",
    "- Integrate the javascript to make API calls to the backend AWS endpoint now that it works (http://teaminfluencerinnovator.stu.nighthawkcodingsociety/api/)\n",
    "- Base64 encoding for the location images to display on the database\n",
    "- Take the base64 encoded images to display on the frontend \n",
    "- Fetch the data for the coordinates and the assigned images and then display them on the frontend\n",
    "- Fix the game afterwards"
   ]
  }
 ],
 "metadata": {
  "language_info": {
   "name": "python"
  }
 },
 "nbformat": 4,
 "nbformat_minor": 2
}
